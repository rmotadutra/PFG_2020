{
 "cells": [
  {
   "cell_type": "code",
   "execution_count": 1,
   "metadata": {},
   "outputs": [],
   "source": [
    "%matplotlib inline\n",
    "import numpy as np\n",
    "import matplotlib.pyplot as plt\n",
    "from matplotlib.pylab import *"
   ]
  },
  {
   "cell_type": "code",
   "execution_count": 2,
   "metadata": {},
   "outputs": [
    {
     "name": "stdout",
     "output_type": "stream",
     "text": [
      "a = [1 1 1 1 2 2 2 2 2 2 2 2 3 3]\n",
      "b = [1 1 2 2 2 2 3 3 3 3 3 3 3 3]\n"
     ]
    }
   ],
   "source": [
    "h = 14\n",
    "\n",
    "ha1 = int((h*30)/100)\n",
    "ha2 = int((h*60)/100)\n",
    "ha3 = int(h -ha1 -ha2)\n",
    "\n",
    "ma1 = [1]*ha1\n",
    "ma2 = [2]*ha2\n",
    "ma3 = [3]*ha3\n",
    "\n",
    "a = np.array(ma1+ma2+ma3)\n",
    "print ('a =',a)\n",
    "\n",
    "#______________________________________________________________\n",
    "\n",
    "hb1 = int((h*20)/100)\n",
    "hb2 = int((h*30)/100)\n",
    "hb3 = int(h -hb1 -hb2)\n",
    "\n",
    "mb1 = [1]*hb1\n",
    "mb2 = [2]*hb2\n",
    "mb3 = [3]*hb3\n",
    "\n",
    "b = np.array(mb1+mb2+mb3)\n",
    "print ('b =',b)"
   ]
  },
  {
   "cell_type": "code",
   "execution_count": 3,
   "metadata": {},
   "outputs": [
    {
     "name": "stdout",
     "output_type": "stream",
     "text": [
      "[[1. 1. 1. 1. 1. 1. 1. 1. 1. 1. 1. 1. 1. 1.]\n",
      " [1. 0. 0. 0. 0. 0. 0. 0. 0. 0. 0. 0. 0. 1.]\n",
      " [1. 0. 0. 0. 0. 0. 0. 0. 0. 0. 0. 0. 0. 2.]\n",
      " [1. 0. 0. 0. 0. 0. 0. 0. 0. 0. 0. 0. 0. 2.]\n",
      " [2. 0. 0. 0. 0. 0. 0. 0. 0. 0. 0. 0. 0. 2.]\n",
      " [2. 0. 0. 0. 0. 0. 0. 0. 0. 0. 0. 0. 0. 2.]\n",
      " [2. 0. 0. 0. 0. 0. 0. 0. 0. 0. 0. 0. 0. 3.]\n",
      " [2. 0. 0. 0. 0. 0. 0. 0. 0. 0. 0. 0. 0. 3.]\n",
      " [2. 0. 0. 0. 0. 0. 0. 0. 0. 0. 0. 0. 0. 3.]\n",
      " [2. 0. 0. 0. 0. 0. 0. 0. 0. 0. 0. 0. 0. 3.]\n",
      " [2. 0. 0. 0. 0. 0. 0. 0. 0. 0. 0. 0. 0. 3.]\n",
      " [2. 0. 0. 0. 0. 0. 0. 0. 0. 0. 0. 0. 0. 3.]\n",
      " [3. 0. 0. 0. 0. 0. 0. 0. 0. 0. 0. 0. 0. 3.]\n",
      " [3. 3. 3. 3. 3. 3. 3. 3. 3. 3. 3. 3. 3. 3.]]\n"
     ]
    }
   ],
   "source": [
    "l = 14\n",
    "c = len(a)\n",
    "\n",
    "shape = (c,l)\n",
    "s = np.zeros(shape)\n",
    "s90 = np.zeros(shape)\n",
    "s91 = np.zeros(shape)\n",
    "\n",
    "s[:,0]   = a\n",
    "s90[:,0]   = a\n",
    "s91[:,0]   = a\n",
    "s[:,l-1] = b\n",
    "s90[:,l-1] = b\n",
    "s91[:,l-1] = b\n",
    "\n",
    "\n",
    "\n",
    "\n",
    "top = [a[0]]*l\n",
    "bas = [a[len(a)-1]]*l\n",
    "\n",
    "s[0,:] = top\n",
    "s91[0,:] = top\n",
    "s[c-1,:] = bas\n",
    "s91[c-1,:] = bas\n",
    "\n",
    "print (s)\n",
    "#print s[0,:] #primeira linha\n",
    "#print s[:,0] #primeira coluna"
   ]
  },
  {
   "cell_type": "code",
   "execution_count": 8,
   "metadata": {},
   "outputs": [
    {
     "name": "stdout",
     "output_type": "stream",
     "text": [
      "[[1.         1.         1.         1.         1.         1.\n",
      "  1.         1.         1.         1.         1.         1.\n",
      "  1.         1.        ]\n",
      " [1.         1.06159335 1.10120205 1.1232844  1.1362704  1.14600858\n",
      "  1.15577388 1.16732367 1.18167301 1.19941471 1.22012883 1.23805009\n",
      "  1.22003794 1.        ]\n",
      " [1.         1.146523   1.22214409 1.25856735 1.27917615 1.29564273\n",
      "  1.31345739 1.33536907 1.36310932 1.3984857  1.44503028 1.51328678\n",
      "  1.64259715 2.        ]\n",
      " [1.         1.30456882 1.3858254  1.41425855 1.43155029 1.44964265\n",
      "  1.47279683 1.50304571 1.54177865 1.59041965 1.65122774 1.72933868\n",
      "  1.83775093 2.        ]\n",
      " [2.         1.6888311  1.60692579 1.58702279 1.58997931 1.6059172\n",
      "  1.63241224 1.66921838 1.71675001 1.77531237 1.84392974 1.91743326\n",
      "  1.97989663 2.        ]\n",
      " [2.         1.84722127 1.77135471 1.74378624 1.74333743 1.7600864\n",
      "  1.79019554 1.83268382 1.88781319 1.95601739 2.03609058 2.11922666\n",
      "  2.1653175  2.        ]\n",
      " [2.         1.93235808 1.89320726 1.88077352 1.88795374 1.90991848\n",
      "  1.94464158 1.99204906 2.05337889 2.13108561 2.22979286 2.36086908\n",
      "  2.56309117 3.        ]\n",
      " [2.         1.99270596 1.99410641 2.00552817 2.02627273 2.05603838\n",
      "  2.09545902 2.14603741 2.21014067 2.29137315 2.39571167 2.53414575\n",
      "  2.72709605 3.        ]\n",
      " [2.         2.04788996 2.09045667 2.1279532  2.16360016 2.20105197\n",
      "  2.24366789 2.2945602  2.35690744 2.43440593 2.53183948 2.65550453\n",
      "  2.8119875  3.        ]\n",
      " [2.         2.1115624  2.19675931 2.25845189 2.3062579  2.34848851\n",
      "  2.3911794  2.43876493 2.49483278 2.56267066 2.6455278  2.74632278\n",
      "  2.86606802 3.        ]\n",
      " [2.         2.20423776 2.3306094  2.40797596 2.46037036 2.50170673\n",
      "  2.54002294 2.5803425  2.62615664 2.68013998 2.74436844 2.82003432\n",
      "  2.90652426 3.        ]\n",
      " [2.         2.37676591 2.51648196 2.58628986 2.62989555 2.66255751\n",
      "  2.69145452 2.72073379 2.75310523 2.790455   2.83402177 2.88424998\n",
      "  2.94037755 3.        ]\n",
      " [3.         2.7876016  2.77413771 2.79315647 2.81302924 2.82998212\n",
      "  2.84528781 2.86063373 2.87735429 2.89639717 2.91834201 2.94333199\n",
      "  2.97092738 3.        ]\n",
      " [3.         3.         3.         3.         3.         3.\n",
      "  3.         3.         3.         3.         3.         3.\n",
      "  3.         3.        ]]\n"
     ]
    }
   ],
   "source": [
    "s2 = s\n",
    "s3 = s\n",
    "\n",
    "t =60\n",
    "\n",
    "for k in range (t):\n",
    "    for j in range (1,l-1):\n",
    "        for i in range(1,c-1):\n",
    "            s3[i,j] = (s2[i-1,j]+s2[i+1,j]+s2[i,j-1]+s2[i,j+1])*0.25\n",
    "    s3 = s2\n",
    "    \n",
    "print (s3)"
   ]
  },
  {
   "cell_type": "code",
   "execution_count": 9,
   "metadata": {},
   "outputs": [
    {
     "name": "stdout",
     "output_type": "stream",
     "text": [
      "[[1. 1. 1. 1. 1. 1. 1. 1. 1. 1. 1. 1. 1. 1.]\n",
      " [1. 1. 1. 1. 1. 1. 1. 1. 1. 1. 1. 1. 1. 1.]\n",
      " [1. 1. 1. 1. 1. 1. 1. 1. 1. 1. 1. 2. 2. 2.]\n",
      " [1. 1. 1. 1. 1. 1. 1. 2. 2. 2. 2. 2. 2. 2.]\n",
      " [2. 2. 2. 2. 2. 2. 2. 2. 2. 2. 2. 2. 2. 2.]\n",
      " [2. 2. 2. 2. 2. 2. 2. 2. 2. 2. 2. 2. 2. 2.]\n",
      " [2. 2. 2. 2. 2. 2. 2. 2. 2. 2. 2. 2. 3. 3.]\n",
      " [2. 2. 2. 2. 2. 2. 2. 2. 2. 2. 2. 3. 3. 3.]\n",
      " [2. 2. 2. 2. 2. 2. 2. 2. 2. 2. 3. 3. 3. 3.]\n",
      " [2. 2. 2. 2. 2. 2. 2. 2. 2. 3. 3. 3. 3. 3.]\n",
      " [2. 2. 2. 2. 2. 3. 3. 3. 3. 3. 3. 3. 3. 3.]\n",
      " [2. 2. 3. 3. 3. 3. 3. 3. 3. 3. 3. 3. 3. 3.]\n",
      " [3. 3. 3. 3. 3. 3. 3. 3. 3. 3. 3. 3. 3. 3.]\n",
      " [3. 3. 3. 3. 3. 3. 3. 3. 3. 3. 3. 3. 3. 3.]]\n"
     ]
    }
   ],
   "source": [
    "s4 = np.round(s3)\n",
    "print (s4)"
   ]
  },
  {
   "cell_type": "code",
   "execution_count": 10,
   "metadata": {},
   "outputs": [
    {
     "data": {
      "image/png": "[encoded data removed]",
      "text/plain": [
       "<Figure size 288x288 with 2 Axes>"
      ]
     },
     "metadata": {
      "needs_background": "light"
     },
     "output_type": "display_data"
    },
    {
     "data": {
      "image/png": "[encoded data removed]",
      "text/plain": [
       "<Figure size 288x288 with 2 Axes>"
      ]
     },
     "metadata": {
      "needs_background": "light"
     },
     "output_type": "display_data"
    }
   ],
   "source": [
    "matshow(s90)\n",
    "colorbar()\n",
    "matshow(s91)\n",
    "colorbar()\n",
    "show()"
   ]
  },
  {
   "cell_type": "code",
   "execution_count": 11,
   "metadata": {},
   "outputs": [
    {
     "data": {
      "image/png": "[encoded data removed]",
      "text/plain": [
       "<Figure size 288x288 with 2 Axes>"
      ]
     },
     "metadata": {
      "needs_background": "light"
     },
     "output_type": "display_data"
    },
    {
     "data": {
      "image/png": "[encoded data removed]",
      "text/plain": [
       "<Figure size 288x288 with 2 Axes>"
      ]
     },
     "metadata": {
      "needs_background": "light"
     },
     "output_type": "display_data"
    }
   ],
   "source": [
    "matshow(s3)\n",
    "colorbar()\n",
    "matshow(s4)\n",
    "colorbar()\n",
    "show()"
   ]
  },
  {
   "cell_type": "code",
   "execution_count": null,
   "metadata": {},
   "outputs": [],
   "source": []
  },
  {
   "cell_type": "code",
   "execution_count": null,
   "metadata": {},
   "outputs": [],
   "source": []
  }
 ],
 "metadata": {
  "kernelspec": {
   "display_name": "Python 3",
   "language": "python",
   "name": "python3"
  },
  "language_info": {
   "codemirror_mode": {
    "name": "ipython",
    "version": 3
   },
   "file_extension": ".py",
   "mimetype": "text/x-python",
   "name": "python",
   "nbconvert_exporter": "python",
   "pygments_lexer": "ipython3",
   "version": "3.7.4"
  }
 },
 "nbformat": 4,
 "nbformat_minor": 1
}
