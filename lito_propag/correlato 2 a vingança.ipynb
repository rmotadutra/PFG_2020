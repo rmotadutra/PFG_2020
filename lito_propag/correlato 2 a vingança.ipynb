{
 "cells": [
  {
   "cell_type": "code",
   "execution_count": null,
   "metadata": {},
   "outputs": [],
   "source": [
    "%matplotlib inline\n",
    "import numpy as np\n",
    "import matplotlib.pyplot as plt\n",
    "from matplotlib.pylab import *"
   ]
  },
  {
   "cell_type": "code",
   "execution_count": null,
   "metadata": {},
   "outputs": [],
   "source": [
    "h = 14\n",
    "\n",
    "ha1 = int((h*30)/100)\n",
    "ha2 = int((h*60)/100)\n",
    "ha3 = int(h -ha1 -ha2)\n",
    "\n",
    "ma1 = [0]*ha1\n",
    "ma2 = [1]*ha2\n",
    "ma3 = [0]*ha3\n",
    "\n",
    "a = np.array(ma1+ma2+ma3)\n",
    "print ('a =',a)\n",
    "\n",
    "#______________________________________________________________\n",
    "\n",
    "hb1 = int((h*20)/100)\n",
    "hb2 = int((h*30)/100)\n",
    "hb3 = int(h -hb1 -hb2)\n",
    "\n",
    "mb1 = [0]*hb1\n",
    "mb2 = [1]*hb2\n",
    "mb3 = [0]*hb3\n",
    "\n",
    "b = np.array(mb1+mb2+mb3)\n",
    "print ('b =',b)"
   ]
  },
  {
   "cell_type": "code",
   "execution_count": null,
   "metadata": {},
   "outputs": [],
   "source": [
    "l = 14\n",
    "c = len(a)\n",
    "\n",
    "shape = (c,l)\n",
    "s = np.zeros(shape)\n",
    "s90 = np.zeros(shape)\n",
    "s91 = np.zeros(shape)\n",
    "\n",
    "s[:,0]   = a\n",
    "s90[:,0]   = a\n",
    "s91[:,0]   = a\n",
    "s[:,l-1] = b\n",
    "s90[:,l-1] = b\n",
    "s91[:,l-1] = b\n",
    "\n",
    "\n",
    "\n",
    "\n",
    "top = [a[0]]*l\n",
    "bas = [a[len(a)-1]]*l\n",
    "\n",
    "s[0,:] = top\n",
    "s91[0,:] = top\n",
    "s[c-1,:] = bas\n",
    "s91[c-1,:] = bas\n",
    "\n",
    "print (s)\n",
    "#print s[0,:] #primeira linha\n",
    "#print s[:,0] #primeira coluna"
   ]
  },
  {
   "cell_type": "code",
   "execution_count": null,
   "metadata": {},
   "outputs": [],
   "source": [
    "s2 = s\n",
    "s3 = s\n",
    "\n",
    "t =60\n",
    "\n",
    "for k in range (t):\n",
    "    for j in range (1,l-1):\n",
    "        for i in range(1,c-1):\n",
    "            s3[i,j] = (s2[i-1,j]+s2[i+1,j]+s2[i,j-1]+s2[i,j+1])*0.25\n",
    "    s3 = s2\n",
    "    \n",
    "print (s3)"
   ]
  },
  {
   "cell_type": "code",
   "execution_count": null,
   "metadata": {},
   "outputs": [],
   "source": [
    "s4 = np.round(s3)\n",
    "print (s4)"
   ]
  },
  {
   "cell_type": "code",
   "execution_count": null,
   "metadata": {},
   "outputs": [],
   "source": [
    "matshow(s90)\n",
    "colorbar()\n",
    "matshow(s91)\n",
    "colorbar()\n",
    "show()"
   ]
  },
  {
   "cell_type": "code",
   "execution_count": null,
   "metadata": {},
   "outputs": [],
   "source": [
    "matshow(s3)\n",
    "colorbar()\n",
    "matshow(s4)\n",
    "colorbar()\n",
    "show()"
   ]
  },
  {
   "cell_type": "code",
   "execution_count": null,
   "metadata": {},
   "outputs": [],
   "source": []
  },
  {
   "cell_type": "code",
   "execution_count": null,
   "metadata": {},
   "outputs": [],
   "source": []
  }
 ],
 "metadata": {
  "kernelspec": {
   "display_name": "Python 3",
   "language": "python",
   "name": "python3"
  },
  "language_info": {
   "codemirror_mode": {
    "name": "ipython",
    "version": 3
   },
   "file_extension": ".py",
   "mimetype": "text/x-python",
   "name": "python",
   "nbconvert_exporter": "python",
   "pygments_lexer": "ipython3",
   "version": "3.7.6"
  }
 },
 "nbformat": 4,
 "nbformat_minor": 1
}
