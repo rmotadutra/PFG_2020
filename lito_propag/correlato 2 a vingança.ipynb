{
 "cells": [
  {
   "cell_type": "code",
   "execution_count": 1,
   "metadata": {},
   "outputs": [],
   "source": [
    "%matplotlib inline\n",
    "import numpy as np\n",
    "import matplotlib.pyplot as plt\n",
    "from matplotlib.pylab import *"
   ]
  },
  {
   "cell_type": "code",
   "execution_count": 2,
   "metadata": {},
   "outputs": [
    {
     "name": "stdout",
     "output_type": "stream",
     "text": [
      "a = [0 0 0 0 1 1 1 1 1 1 1 1 0 0]\n",
      "b = [0 0 1 1 1 1 0 0 0 0 0 0 0 0]\n"
     ]
    }
   ],
   "source": [
    "h = 14\n",
    "\n",
    "ha1 = int((h*30)/100)\n",
    "ha2 = int((h*60)/100)\n",
    "ha3 = int(h -ha1 -ha2)\n",
    "\n",
    "ma1 = [0]*ha1\n",
    "ma2 = [1]*ha2\n",
    "ma3 = [0]*ha3\n",
    "\n",
    "a = np.array(ma1+ma2+ma3)\n",
    "print ('a =',a)\n",
    "\n",
    "#______________________________________________________________\n",
    "\n",
    "hb1 = int((h*20)/100)\n",
    "hb2 = int((h*30)/100)\n",
    "hb3 = int(h -hb1 -hb2)\n",
    "\n",
    "mb1 = [0]*hb1\n",
    "mb2 = [1]*hb2\n",
    "mb3 = [0]*hb3\n",
    "\n",
    "b = np.array(mb1+mb2+mb3)\n",
    "print ('b =',b)"
   ]
  },
  {
   "cell_type": "code",
   "execution_count": 3,
   "metadata": {},
   "outputs": [
    {
     "name": "stdout",
     "output_type": "stream",
     "text": [
      "[[0. 0. 0. 0. 0. 0. 0. 0. 0. 0. 0. 0. 0. 0.]\n",
      " [0. 0. 0. 0. 0. 0. 0. 0. 0. 0. 0. 0. 0. 0.]\n",
      " [0. 0. 0. 0. 0. 0. 0. 0. 0. 0. 0. 0. 0. 1.]\n",
      " [0. 0. 0. 0. 0. 0. 0. 0. 0. 0. 0. 0. 0. 1.]\n",
      " [1. 0. 0. 0. 0. 0. 0. 0. 0. 0. 0. 0. 0. 1.]\n",
      " [1. 0. 0. 0. 0. 0. 0. 0. 0. 0. 0. 0. 0. 1.]\n",
      " [1. 0. 0. 0. 0. 0. 0. 0. 0. 0. 0. 0. 0. 0.]\n",
      " [1. 0. 0. 0. 0. 0. 0. 0. 0. 0. 0. 0. 0. 0.]\n",
      " [1. 0. 0. 0. 0. 0. 0. 0. 0. 0. 0. 0. 0. 0.]\n",
      " [1. 0. 0. 0. 0. 0. 0. 0. 0. 0. 0. 0. 0. 0.]\n",
      " [1. 0. 0. 0. 0. 0. 0. 0. 0. 0. 0. 0. 0. 0.]\n",
      " [1. 0. 0. 0. 0. 0. 0. 0. 0. 0. 0. 0. 0. 0.]\n",
      " [0. 0. 0. 0. 0. 0. 0. 0. 0. 0. 0. 0. 0. 0.]\n",
      " [0. 0. 0. 0. 0. 0. 0. 0. 0. 0. 0. 0. 0. 0.]]\n"
     ]
    }
   ],
   "source": [
    "l = 14\n",
    "c = len(a)\n",
    "\n",
    "shape = (c,l)\n",
    "s = np.zeros(shape)\n",
    "s90 = np.zeros(shape)\n",
    "s91 = np.zeros(shape)\n",
    "\n",
    "s[:,0]   = a\n",
    "s90[:,0]   = a\n",
    "s91[:,0]   = a\n",
    "s[:,l-1] = b\n",
    "s90[:,l-1] = b\n",
    "s91[:,l-1] = b\n",
    "\n",
    "\n",
    "\n",
    "\n",
    "top = [a[0]]*l\n",
    "bas = [a[len(a)-1]]*l\n",
    "\n",
    "s[0,:] = top\n",
    "s91[0,:] = top\n",
    "s[c-1,:] = bas\n",
    "s91[c-1,:] = bas\n",
    "\n",
    "print (s)\n",
    "#print s[0,:] #primeira linha\n",
    "#print s[:,0] #primeira coluna"
   ]
  },
  {
   "cell_type": "code",
   "execution_count": 4,
   "metadata": {},
   "outputs": [
    {
     "name": "stdout",
     "output_type": "stream",
     "text": [
      "[[0.         0.         0.         0.         0.         0.\n",
      "  0.         0.         0.         0.         0.         0.\n",
      "  0.         0.        ]\n",
      " [0.         0.04604687 0.07021031 0.07733286 0.07620261 0.07303984\n",
      "  0.07160282 0.07439562 0.08363421 0.10174505 0.13078998 0.16763772\n",
      "  0.18038024 0.        ]\n",
      " [0.         0.11421061 0.15784301 0.16341753 0.15501875 0.14497884\n",
      "  0.13960624 0.14294501 0.15893239 0.1930019  0.25411252 0.35959274\n",
      "  0.55396704 1.        ]\n",
      " [0.         0.25333405 0.28414255 0.2642637  0.23638771 0.21322624\n",
      "  0.19987838 0.19977395 0.21697459 0.25790054 0.3335744  0.46296967\n",
      "  0.67601124 1.        ]\n",
      " [1.         0.61548207 0.46191765 0.37412225 0.31421292 0.27291014\n",
      "  0.2481603  0.24048226 0.25234343 0.28891831 0.35995814 0.48309605\n",
      "  0.68724806 1.        ]\n",
      " [1.         0.74725761 0.57483545 0.45726552 0.37477916 0.31747794\n",
      "  0.28080897 0.26300927 0.26420283 0.28646187 0.33497675 0.4226565\n",
      "  0.59003911 1.        ]\n",
      " [1.         0.79933785 0.63387675 0.50657535 0.41159712 0.3429438\n",
      "  0.29611904 0.26798646 0.25627548 0.2588001  0.27160592 0.282986\n",
      "  0.25041074 0.        ]\n",
      " [1.         0.81684751 0.6557385  0.52481528 0.42352875 0.3481118\n",
      "  0.29426672 0.25798344 0.23538822 0.22190377 0.21043187 0.18773809\n",
      "  0.12877203 0.        ]\n",
      " [1.         0.81291329 0.64834267 0.51460301 0.41094875 0.33315142\n",
      "  0.27629397 0.23564929 0.20658995 0.183978   0.16120248 0.12919854\n",
      "  0.07708026 0.        ]\n",
      " [1.         0.78699924 0.61094209 0.47535735 0.37371613 0.29852994\n",
      "  0.24338416 0.2029296  0.17240392 0.14708282 0.12183748 0.09115515\n",
      "  0.0504709  0.        ]\n",
      " [1.         0.72458749 0.53375206 0.40303524 0.31101925 0.24491861\n",
      "  0.19682979 0.16126414 0.13388035 0.11081993 0.08842723 0.06342252\n",
      "  0.03374237 0.        ]\n",
      " [1.         0.57793408 0.3969524  0.29265561 0.22314003 0.17407092\n",
      "  0.1385233  0.11213961 0.09166937 0.07440712 0.05800582 0.0405877\n",
      "  0.02114017 0.        ]\n",
      " [0.         0.19040853 0.18378385 0.14789054 0.11526252 0.09017368\n",
      "  0.07152014 0.05753775 0.04663222 0.03744218 0.0288236  0.01991048\n",
      "  0.01026266 0.        ]\n",
      " [0.         0.         0.         0.         0.         0.\n",
      "  0.         0.         0.         0.         0.         0.\n",
      "  0.         0.        ]]\n"
     ]
    }
   ],
   "source": [
    "s2 = s\n",
    "s3 = s\n",
    "\n",
    "t =60\n",
    "\n",
    "for k in range (t):\n",
    "    for j in range (1,l-1):\n",
    "        for i in range(1,c-1):\n",
    "            s3[i,j] = (s2[i-1,j]+s2[i+1,j]+s2[i,j-1]+s2[i,j+1])*0.25\n",
    "    s3 = s2\n",
    "    \n",
    "print (s3)"
   ]
  },
  {
   "cell_type": "code",
   "execution_count": 5,
   "metadata": {},
   "outputs": [
    {
     "name": "stdout",
     "output_type": "stream",
     "text": [
      "[[0. 0. 0. 0. 0. 0. 0. 0. 0. 0. 0. 0. 0. 0.]\n",
      " [0. 0. 0. 0. 0. 0. 0. 0. 0. 0. 0. 0. 0. 0.]\n",
      " [0. 0. 0. 0. 0. 0. 0. 0. 0. 0. 0. 0. 1. 1.]\n",
      " [0. 0. 0. 0. 0. 0. 0. 0. 0. 0. 0. 0. 1. 1.]\n",
      " [1. 1. 0. 0. 0. 0. 0. 0. 0. 0. 0. 0. 1. 1.]\n",
      " [1. 1. 1. 0. 0. 0. 0. 0. 0. 0. 0. 0. 1. 1.]\n",
      " [1. 1. 1. 1. 0. 0. 0. 0. 0. 0. 0. 0. 0. 0.]\n",
      " [1. 1. 1. 1. 0. 0. 0. 0. 0. 0. 0. 0. 0. 0.]\n",
      " [1. 1. 1. 1. 0. 0. 0. 0. 0. 0. 0. 0. 0. 0.]\n",
      " [1. 1. 1. 0. 0. 0. 0. 0. 0. 0. 0. 0. 0. 0.]\n",
      " [1. 1. 1. 0. 0. 0. 0. 0. 0. 0. 0. 0. 0. 0.]\n",
      " [1. 1. 0. 0. 0. 0. 0. 0. 0. 0. 0. 0. 0. 0.]\n",
      " [0. 0. 0. 0. 0. 0. 0. 0. 0. 0. 0. 0. 0. 0.]\n",
      " [0. 0. 0. 0. 0. 0. 0. 0. 0. 0. 0. 0. 0. 0.]]\n"
     ]
    }
   ],
   "source": [
    "s4 = np.round(s3)\n",
    "print (s4)"
   ]
  },
  {
   "cell_type": "code",
   "execution_count": 6,
   "metadata": {},
   "outputs": [
    {
     "data": {
      "image/png": "[encoded data removed]",
      "text/plain": [
       "<Figure size 288x288 with 2 Axes>"
      ]
     },
     "metadata": {
      "needs_background": "light"
     },
     "output_type": "display_data"
    },
    {
     "data": {
      "image/png": "[encoded data removed]",
      "text/plain": [
       "<Figure size 288x288 with 2 Axes>"
      ]
     },
     "metadata": {
      "needs_background": "light"
     },
     "output_type": "display_data"
    }
   ],
   "source": [
    "matshow(s90)\n",
    "colorbar()\n",
    "matshow(s91)\n",
    "colorbar()\n",
    "show()"
   ]
  },
  {
   "cell_type": "code",
   "execution_count": 7,
   "metadata": {},
   "outputs": [
    {
     "data": {
      "image/png": "[encoded data removed]",
      "text/plain": [
       "<Figure size 288x288 with 2 Axes>"
      ]
     },
     "metadata": {
      "needs_background": "light"
     },
     "output_type": "display_data"
    },
    {
     "data": {
      "image/png": "[encoded data removed]",
      "text/plain": [
       "<Figure size 288x288 with 2 Axes>"
      ]
     },
     "metadata": {
      "needs_background": "light"
     },
     "output_type": "display_data"
    }
   ],
   "source": [
    "matshow(s3)\n",
    "colorbar()\n",
    "matshow(s4)\n",
    "colorbar()\n",
    "show()"
   ]
  },
  {
   "cell_type": "code",
   "execution_count": null,
   "metadata": {},
   "outputs": [],
   "source": []
  },
  {
   "cell_type": "code",
   "execution_count": null,
   "metadata": {},
   "outputs": [],
   "source": []
  }
 ],
 "metadata": {
  "kernelspec": {
   "display_name": "Python 3",
   "language": "python",
   "name": "python3"
  },
  "language_info": {
   "codemirror_mode": {
    "name": "ipython",
    "version": 3
   },
   "file_extension": ".py",
   "mimetype": "text/x-python",
   "name": "python",
   "nbconvert_exporter": "python",
   "pygments_lexer": "ipython3",
   "version": "3.7.5"
  }
 },
 "nbformat": 4,
 "nbformat_minor": 1
}
