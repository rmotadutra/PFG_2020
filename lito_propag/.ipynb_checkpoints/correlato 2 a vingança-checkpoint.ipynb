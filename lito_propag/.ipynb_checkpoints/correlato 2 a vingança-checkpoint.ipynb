{
 "cells": [
  {
   "cell_type": "code",
   "execution_count": 1,
   "metadata": {},
   "outputs": [],
   "source": [
    "%matplotlib inline\n",
    "import numpy as np\n",
    "import matplotlib.pyplot as plt\n",
    "from matplotlib.pylab import *"
   ]
  },
  {
   "cell_type": "code",
   "execution_count": 11,
   "metadata": {},
   "outputs": [
    {
     "name": "stdout",
     "output_type": "stream",
     "text": [
      "a = [0 0 0 0 1 1 1 1 1 1 1 1 0 0]\n",
      "b = [0 0 1 1 1 1 0 0 0 0 0 0 0 0]\n"
     ]
    }
   ],
   "source": [
    "h = 14\n",
    "\n",
    "ha1 = int((h*30)/100)\n",
    "ha2 = int((h*60)/100)\n",
    "ha3 = int(h -ha1 -ha2)\n",
    "\n",
    "ma1 = [0]*ha1\n",
    "ma2 = [1]*ha2\n",
    "ma3 = [0]*ha3\n",
    "\n",
    "a = np.array(ma1+ma2+ma3)\n",
    "print ('a =',a)\n",
    "\n",
    "#______________________________________________________________\n",
    "\n",
    "hb1 = int((h*20)/100)\n",
    "hb2 = int((h*30)/100)\n",
    "hb3 = int(h -hb1 -hb2)\n",
    "\n",
    "mb1 = [0]*hb1\n",
    "mb2 = [1]*hb2\n",
    "mb3 = [0]*hb3\n",
    "\n",
    "b = np.array(mb1+mb2+mb3)\n",
    "print ('b =',b)"
   ]
  },
  {
   "cell_type": "code",
   "execution_count": 3,
   "metadata": {},
   "outputs": [
    {
     "name": "stdout",
     "output_type": "stream",
     "text": [
      "[[1. 1. 1. 1. 1. 1. 1. 1. 1. 1. 1. 1. 1. 1.]\n",
      " [1. 0. 0. 0. 0. 0. 0. 0. 0. 0. 0. 0. 0. 1.]\n",
      " [1. 0. 0. 0. 0. 0. 0. 0. 0. 0. 0. 0. 0. 2.]\n",
      " [1. 0. 0. 0. 0. 0. 0. 0. 0. 0. 0. 0. 0. 2.]\n",
      " [2. 0. 0. 0. 0. 0. 0. 0. 0. 0. 0. 0. 0. 2.]\n",
      " [2. 0. 0. 0. 0. 0. 0. 0. 0. 0. 0. 0. 0. 2.]\n",
      " [2. 0. 0. 0. 0. 0. 0. 0. 0. 0. 0. 0. 0. 3.]\n",
      " [2. 0. 0. 0. 0. 0. 0. 0. 0. 0. 0. 0. 0. 3.]\n",
      " [2. 0. 0. 0. 0. 0. 0. 0. 0. 0. 0. 0. 0. 3.]\n",
      " [2. 0. 0. 0. 0. 0. 0. 0. 0. 0. 0. 0. 0. 3.]\n",
      " [2. 0. 0. 0. 0. 0. 0. 0. 0. 0. 0. 0. 0. 3.]\n",
      " [2. 0. 0. 0. 0. 0. 0. 0. 0. 0. 0. 0. 0. 3.]\n",
      " [3. 0. 0. 0. 0. 0. 0. 0. 0. 0. 0. 0. 0. 3.]\n",
      " [3. 3. 3. 3. 3. 3. 3. 3. 3. 3. 3. 3. 3. 3.]]\n"
     ]
    }
   ],
   "source": [
    "l = 14\n",
    "c = len(a)\n",
    "\n",
    "shape = (c,l)\n",
    "s = np.zeros(shape)\n",
    "s90 = np.zeros(shape)\n",
    "s91 = np.zeros(shape)\n",
    "\n",
    "s[:,0]   = a\n",
    "s90[:,0]   = a\n",
    "s91[:,0]   = a\n",
    "s[:,l-1] = b\n",
    "s90[:,l-1] = b\n",
    "s91[:,l-1] = b\n",
    "\n",
    "\n",
    "\n",
    "\n",
    "top = [a[0]]*l\n",
    "bas = [a[len(a)-1]]*l\n",
    "\n",
    "s[0,:] = top\n",
    "s91[0,:] = top\n",
    "s[c-1,:] = bas\n",
    "s91[c-1,:] = bas\n",
    "\n",
    "print (s)\n",
    "#print s[0,:] #primeira linha\n",
    "#print s[:,0] #primeira coluna"
   ]
  },
  {
   "cell_type": "code",
   "execution_count": 4,
   "metadata": {},
   "outputs": [
    {
     "name": "stdout",
     "output_type": "stream",
     "text": [
      "[[1.         1.         1.         1.         1.         1.\n",
      "  1.         1.         1.         1.         1.         1.\n",
      "  1.         1.        ]\n",
      " [1.         1.05910401 1.09650057 1.11675762 1.12838816 1.13729357\n",
      "  1.14676957 1.15856225 1.17364512 1.19254274 1.21474553 1.23438352\n",
      "  1.21820355 1.        ]\n",
      " [1.         1.14181989 1.21326266 1.24623946 1.26429015 1.27918635\n",
      "  1.29645712 1.31882959 1.34795639 1.38551601 1.43487113 1.50636789\n",
      "  1.63913581 2.        ]\n",
      " [1.         1.29803641 1.37349126 1.39714071 1.41088369 1.42679949\n",
      "  1.44920238 1.48009416 1.52075403 1.57242644 1.63713516 1.71974177\n",
      "  1.83295019 2.        ]\n",
      " [2.         1.6809371  1.5920231  1.56634362 1.56501726 1.57833086\n",
      "  1.60392328 1.64151001 1.6913716  1.75359593 1.82692299 1.90585295\n",
      "  1.97410417 2.        ]\n",
      " [2.         1.83848729 1.75486889 1.72091415 1.71573304 1.72958515\n",
      "  1.75870155 1.80205759 1.85976638 1.93202076 2.01730035 2.10643322\n",
      "  2.15891877 2.        ]\n",
      " [2.         1.92332799 1.87616519 1.85713362 1.85942747 1.87840391\n",
      "  1.91210659 1.96041542 2.02441368 2.10630643 2.21039209 2.34766124\n",
      "  2.55648573 3.        ]\n",
      " [2.         1.98391383 1.97751591 1.98251823 1.99851107 2.02537337\n",
      "  2.06380599 2.1152658  2.18196861 2.26727545 2.3768465  2.52130375\n",
      "  2.72067407 3.        ]\n",
      " [2.         2.03982945 2.07524875 2.1068638  2.13815932 2.17295457\n",
      "  2.21466927 2.26637286 2.33110451 2.4123372  2.51456441 2.64374594\n",
      "  2.80610772 3.        ]\n",
      " [2.         2.10465949 2.18373696 2.24039551 2.28447865 2.32443811\n",
      "  2.36636067 2.41464336 2.4727541  2.54378903 2.6307488  2.7362639\n",
      "  2.86103846 3.        ]\n",
      " [2.         2.1988286  2.32040598 2.39382966 2.44330918 2.48286841\n",
      "  2.52058483 2.56145229 2.60886784 2.66535584 2.73279742 2.81215931\n",
      "  2.90258684 3.        ]\n",
      " [2.         2.37308119 2.50953186 2.57665481 2.61827615 2.6497289\n",
      "  2.67821857 2.70787194 2.7413346  2.78039024 2.82614486 2.87888933\n",
      "  2.93769736 3.        ]\n",
      " [3.         2.78575813 2.77066073 2.78833654 2.807217   2.82356543\n",
      "  2.83866779 2.8542012  2.87146782 2.89136404 2.91440311 2.94065143\n",
      "  2.9695872  3.        ]\n",
      " [3.         3.         3.         3.         3.         3.\n",
      "  3.         3.         3.         3.         3.         3.\n",
      "  3.         3.        ]]\n"
     ]
    }
   ],
   "source": [
    "s2 = s\n",
    "s3 = s\n",
    "\n",
    "t =60\n",
    "\n",
    "for k in range (t):\n",
    "    for j in range (1,l-1):\n",
    "        for i in range(1,c-1):\n",
    "            s3[i,j] = (s2[i-1,j]+s2[i+1,j]+s2[i,j-1]+s2[i,j+1])*0.25\n",
    "    s3 = s2\n",
    "    \n",
    "print (s3)"
   ]
  },
  {
   "cell_type": "code",
   "execution_count": 5,
   "metadata": {},
   "outputs": [
    {
     "name": "stdout",
     "output_type": "stream",
     "text": [
      "[[1. 1. 1. 1. 1. 1. 1. 1. 1. 1. 1. 1. 1. 1.]\n",
      " [1. 1. 1. 1. 1. 1. 1. 1. 1. 1. 1. 1. 1. 1.]\n",
      " [1. 1. 1. 1. 1. 1. 1. 1. 1. 1. 1. 2. 2. 2.]\n",
      " [1. 1. 1. 1. 1. 1. 1. 1. 2. 2. 2. 2. 2. 2.]\n",
      " [2. 2. 2. 2. 2. 2. 2. 2. 2. 2. 2. 2. 2. 2.]\n",
      " [2. 2. 2. 2. 2. 2. 2. 2. 2. 2. 2. 2. 2. 2.]\n",
      " [2. 2. 2. 2. 2. 2. 2. 2. 2. 2. 2. 2. 3. 3.]\n",
      " [2. 2. 2. 2. 2. 2. 2. 2. 2. 2. 2. 3. 3. 3.]\n",
      " [2. 2. 2. 2. 2. 2. 2. 2. 2. 2. 3. 3. 3. 3.]\n",
      " [2. 2. 2. 2. 2. 2. 2. 2. 2. 3. 3. 3. 3. 3.]\n",
      " [2. 2. 2. 2. 2. 2. 3. 3. 3. 3. 3. 3. 3. 3.]\n",
      " [2. 2. 3. 3. 3. 3. 3. 3. 3. 3. 3. 3. 3. 3.]\n",
      " [3. 3. 3. 3. 3. 3. 3. 3. 3. 3. 3. 3. 3. 3.]\n",
      " [3. 3. 3. 3. 3. 3. 3. 3. 3. 3. 3. 3. 3. 3.]]\n"
     ]
    }
   ],
   "source": [
    "s4 = np.round(s3)\n",
    "print (s4)"
   ]
  },
  {
   "cell_type": "code",
   "execution_count": 6,
   "metadata": {},
   "outputs": [
    {
     "data": {
      "image/png": "[encoded data removed]",
      "text/plain": [
       "<Figure size 288x288 with 2 Axes>"
      ]
     },
     "metadata": {
      "needs_background": "light"
     },
     "output_type": "display_data"
    },
    {
     "data": {
      "image/png": "[encoded data removed]",
      "text/plain": [
       "<Figure size 288x288 with 2 Axes>"
      ]
     },
     "metadata": {
      "needs_background": "light"
     },
     "output_type": "display_data"
    }
   ],
   "source": [
    "matshow(s90)\n",
    "colorbar()\n",
    "matshow(s91)\n",
    "colorbar()\n",
    "show()"
   ]
  },
  {
   "cell_type": "code",
   "execution_count": 7,
   "metadata": {},
   "outputs": [
    {
     "data": {
      "image/png": "[encoded data removed]",
      "text/plain": [
       "<Figure size 288x288 with 2 Axes>"
      ]
     },
     "metadata": {
      "needs_background": "light"
     },
     "output_type": "display_data"
    },
    {
     "data": {
      "image/png": "[encoded data removed]",
      "text/plain": [
       "<Figure size 288x288 with 2 Axes>"
      ]
     },
     "metadata": {
      "needs_background": "light"
     },
     "output_type": "display_data"
    }
   ],
   "source": [
    "matshow(s3)\n",
    "colorbar()\n",
    "matshow(s4)\n",
    "colorbar()\n",
    "show()"
   ]
  },
  {
   "cell_type": "code",
   "execution_count": null,
   "metadata": {},
   "outputs": [],
   "source": []
  },
  {
   "cell_type": "code",
   "execution_count": null,
   "metadata": {},
   "outputs": [],
   "source": []
  }
 ],
 "metadata": {
  "kernelspec": {
   "display_name": "Python 3",
   "language": "python",
   "name": "python3"
  },
  "language_info": {
   "codemirror_mode": {
    "name": "ipython",
    "version": 3
   },
   "file_extension": ".py",
   "mimetype": "text/x-python",
   "name": "python",
   "nbconvert_exporter": "python",
   "pygments_lexer": "ipython3",
   "version": "3.7.5"
  }
 },
 "nbformat": 4,
 "nbformat_minor": 1
}
