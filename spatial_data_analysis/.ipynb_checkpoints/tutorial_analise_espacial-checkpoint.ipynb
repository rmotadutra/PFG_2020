{
 "cells": [
  {
   "cell_type": "code",
   "execution_count": 2,
   "metadata": {},
   "outputs": [],
   "source": [
    "# Importando Bibliotecas\n",
    "import pandas as pd\n",
    "import numpy as np\n",
    "import matplotlib.pyplot as plt\n",
    "import matplotlib.patches as mpatches\n",
    "import sys\n",
    "\n",
    "# Bibliotecas locais\n",
    "sys.path.insert(0, '../modulos_appynho') # importando modulo\n",
    "\n",
    "from gerenciamento.importar import acesso as ger\n",
    "from gerenciamento import minifuncoes as mini\n",
    "from graficos.perfis import plotagem as plm\n",
    "from graficos import pizza\n",
    "from graficos import scatter\n",
    "from graficos.matriz_confusao import matriz_confusao as confusao\n",
    "\n",
    "caminho = ger.acesso({\"WIN\":\"..\\\\data\",\"LINUX\":\"../data\"})\n",
    "\n",
    "caminho_geral = ger.importar_pasta(caminho)"
   ]
  },
  {
   "cell_type": "code",
   "execution_count": 6,
   "metadata": {},
   "outputs": [
    {
     "data": {
      "text/plain": [
       "{'DEPTH': array([-4.5720000e-01, -3.0480000e-01, -1.5240000e-01, ...,\n",
       "         3.5643312e+03,  3.5644836e+03,  3.5646360e+03]),\n",
       " 'LITO': array([nan, nan, nan, ..., nan, nan, nan]),\n",
       " 'GR': array([  5.0502,   4.1305,   3.8073, ..., 125.6342, 125.6342, 125.6342]),\n",
       " 'CALI': array([  nan,   nan,   nan, ..., 3.732, 3.732, 3.732]),\n",
       " 'ILD': array([   nan,    nan,    nan, ..., 9.6801, 9.6791, 9.6785]),\n",
       " 'NPHI': array([-0.0517, -0.0541, -0.0101, ...,     nan,     nan,     nan]),\n",
       " 'RHOB': array([nan, nan, nan, ..., nan, nan, nan]),\n",
       " 'DT': array([50.    , 50.    , 50.    , ..., 75.4147, 75.4147, 75.4147])}"
      ]
     },
     "execution_count": 6,
     "metadata": {},
     "output_type": "execute_result"
    }
   ],
   "source": [
    "nms = {\n",
    "    'DEPTH':['DEPTH'],\n",
    "    'GR':['GR'],\n",
    "    'DT':['DT'],\n",
    "    'ILD':['ILD','HDRS','RT','AHT901','AT90','RT90'],\n",
    "    'CALI':['HCAL','CAL','CALI','DCAL'],\n",
    "    'NPHI':['NPHI'],\n",
    "    'RHOB':['RHOB','RHOZ','RHBA4','RHLA','RHLA3','RHBA'],\n",
    "    'LITO':['Lith_new']\n",
    "}\n",
    "\n",
    "nome_poco = '7-MP-28D-BA'\n",
    "\n",
    "poco = ger.importar_las(caminho_geral[ nome_poco ],nms)\n",
    "poco"
   ]
  },
  {
   "cell_type": "code",
   "execution_count": null,
   "metadata": {},
   "outputs": [],
   "source": []
  },
  {
   "cell_type": "code",
   "execution_count": null,
   "metadata": {},
   "outputs": [],
   "source": []
  }
 ],
 "metadata": {
  "kernelspec": {
   "display_name": "Python 3",
   "language": "python",
   "name": "python3"
  },
  "language_info": {
   "codemirror_mode": {
    "name": "ipython",
    "version": 3
   },
   "file_extension": ".py",
   "mimetype": "text/x-python",
   "name": "python",
   "nbconvert_exporter": "python",
   "pygments_lexer": "ipython3",
   "version": "3.7.6"
  }
 },
 "nbformat": 4,
 "nbformat_minor": 4
}
