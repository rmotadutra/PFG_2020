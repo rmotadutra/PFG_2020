{
 "cells": [
  {
   "cell_type": "code",
   "execution_count": 33,
   "metadata": {},
   "outputs": [],
   "source": [
    "def read_litho_code(path):\n",
    "    import csv\n",
    "    with open(path, errors=\"ignore\") as csvfile:\n",
    "        readCSV = csv.reader(csvfile, delimiter=',')\n",
    "        linhas = []\n",
    "        for row in readCSV:\n",
    "            linhas.append(row)\n",
    "\n",
    "        data = {}\n",
    "        lithology = []\n",
    "        color = []\n",
    "        code = []\n",
    "        for i in range(1, len(linhas)):\n",
    "            lithology.append(linhas[i][0])\n",
    "            color.append(linhas[i][1])\n",
    "            code.append(linhas[i][2])\n",
    "\n",
    "        ii=0\n",
    "        for i in lithology:\n",
    "            #print(i)\n",
    "            data[i] = {}\n",
    "            data[i][linhas[0][1]] = color[ii]\n",
    "            data[i][linhas[0][2]] = code[ii]\n",
    "            ii += 1\n",
    "            \n",
    "    return data"
   ]
  },
  {
   "cell_type": "code",
   "execution_count": null,
   "metadata": {},
   "outputs": [],
   "source": [
    "  for i in lito_types:\n",
    "        for j in litho_code:\n",
    "            if int(i) == int(litho_code[j]['CODE']):\n",
    "                data[j] = {}\n",
    "                for k in range(len(lito_types)):\n",
    "                    data[j]['LITHOLOGY'] = np.array(lito_all[k])\n",
    "                    data[j]['GR'] = np.array(gr_all[k])\n",
    "                    data[j]['NPHI'] = np.array(nphi_all[k])\n",
    "                    data[j]['RHOB'] = np.array(rhob_all[k])\n",
    "        #print(data[j])\n",
    "    \n",
    "    return data"
   ]
  }
 ],
 "metadata": {
  "kernelspec": {
   "display_name": "Python 3",
   "language": "python",
   "name": "python3"
  },
  "language_info": {
   "codemirror_mode": {
    "name": "ipython",
    "version": 3
   },
   "file_extension": ".py",
   "mimetype": "text/x-python",
   "name": "python",
   "nbconvert_exporter": "python",
   "pygments_lexer": "ipython3",
   "version": "3.7.5"
  }
 },
 "nbformat": 4,
 "nbformat_minor": 2
}
