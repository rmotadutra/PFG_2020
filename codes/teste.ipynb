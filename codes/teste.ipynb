{
 "cells": [
  {
   "cell_type": "code",
   "execution_count": null,
   "metadata": {},
   "outputs": [],
   "source": [
    "sand_all = []\n",
    "for i in range(len(separate_53D['SHALE']['LITHOLOGY'])):\n",
    "    #print(i)\n",
    "    if separate_53D['SHALE']['LITHOLOGY'][i] == 57.0:\n",
    "        sand = 1\n",
    "    else:\n",
    "        sand = 0\n",
    "    sand_all.append(sand)"
   ]
  },
  {
   "cell_type": "code",
   "execution_count": null,
   "metadata": {},
   "outputs": [],
   "source": [
    "a = np.array(sand_all)\n",
    "print(list(a))"
   ]
  },
  {
   "cell_type": "code",
   "execution_count": null,
   "metadata": {},
   "outputs": [],
   "source": [
    "sand_all2 = []\n",
    "for i in range(len(separate_56D['SHALE']['LITHOLOGY'])):\n",
    "    #print(i)\n",
    "    if separate_56D['SHALE']['LITHOLOGY'][i] == 57.0:\n",
    "        sand2 = 1\n",
    "    else:\n",
    "        sand2 = 0\n",
    "    sand_all2.append(sand)"
   ]
  },
  {
   "cell_type": "code",
   "execution_count": null,
   "metadata": {},
   "outputs": [],
   "source": [
    "b = np.array(sand_all2[:-1])\n",
    "print(list(b))"
   ]
  },
  {
   "cell_type": "code",
   "execution_count": null,
   "metadata": {},
   "outputs": [],
   "source": [
    "dist = 656.1804542199193\n",
    "step = well_56D['Depth'][3] - well_56D['Depth'][2]\n",
    "print(step)"
   ]
  },
  {
   "cell_type": "code",
   "execution_count": null,
   "metadata": {},
   "outputs": [],
   "source": [
    "n_point = dist/step\n",
    "print(n_point)"
   ]
  },
  {
   "cell_type": "code",
   "execution_count": null,
   "metadata": {},
   "outputs": [],
   "source": [
    "l = int(n_point)\n",
    "c = len(a)\n",
    "\n",
    "shape = (c,l)\n",
    "s = np.zeros(shape)\n",
    "s90 = np.zeros(shape)\n",
    "s91 = np.zeros(shape)\n",
    "#print(s)\n",
    "\n",
    "s[:,0]   = a\n",
    "s90[:,0]   = a\n",
    "s91[:,0]   = a\n",
    "s[:,l-1] = b\n",
    "s90[:,l-1] = b\n",
    "s91[:,l-1] = b\n",
    "\n",
    "top = [a[0]]*l\n",
    "bas = [a[len(a)-1]]*l\n",
    "\n",
    "s[0,:] = top\n",
    "s91[0,:] = top\n",
    "s[c-1,:] = bas\n",
    "s91[c-1,:] = bas\n",
    "\n",
    "#print (s)\n",
    "plt.imshow(s)\n",
    "plt.show()\n",
    "print (s[-2,:]) #primeira linha\n",
    "#print (list(s[:,-2])) #primeira coluna"
   ]
  },
  {
   "cell_type": "code",
   "execution_count": null,
   "metadata": {},
   "outputs": [],
   "source": [
    "s2 = s\n",
    "s3 = s\n",
    "\n",
    "t=60\n",
    "\n",
    "for k in range (t):\n",
    "    for j in range (1,l-1):\n",
    "        for i in range(1,c-1):\n",
    "            s3[i,j] = (s2[i-1,j]+s2[i+1,j]+s2[i,j-1]+s2[i,j+1])*0.25\n",
    "    s3 = s2\n",
    "    \n",
    "#print (s3)"
   ]
  },
  {
   "cell_type": "code",
   "execution_count": null,
   "metadata": {},
   "outputs": [],
   "source": [
    "s4 = np.round(s3)"
   ]
  },
  {
   "cell_type": "code",
   "execution_count": null,
   "metadata": {},
   "outputs": [],
   "source": [
    "matshow(s90)\n",
    "colorbar()\n",
    "matshow(s91)\n",
    "colorbar()\n",
    "show()"
   ]
  },
  {
   "cell_type": "code",
   "execution_count": null,
   "metadata": {},
   "outputs": [],
   "source": [
    "matshow(s3)\n",
    "colorbar()\n",
    "matshow(s4)\n",
    "colorbar()\n",
    "show()"
   ]
  },
  {
   "cell_type": "code",
   "execution_count": null,
   "metadata": {},
   "outputs": [],
   "source": [
    "np.shape(s4)[0]"
   ]
  },
  {
   "cell_type": "code",
   "execution_count": null,
   "metadata": {},
   "outputs": [],
   "source": [
    "for i in range(np.shape(s4)[0]):\n",
    "    for j in range(np.shape(s4)[1]):\n",
    "        if s4[i][j] == 1:\n",
    "            print(s4[i][j])"
   ]
  }
 ],
 "metadata": {
  "kernelspec": {
   "display_name": "Python 3",
   "language": "python",
   "name": "python3"
  },
  "language_info": {
   "codemirror_mode": {
    "name": "ipython",
    "version": 3
   },
   "file_extension": ".py",
   "mimetype": "text/x-python",
   "name": "python",
   "nbconvert_exporter": "python",
   "pygments_lexer": "ipython3",
   "version": "3.7.6"
  }
 },
 "nbformat": 4,
 "nbformat_minor": 4
}
