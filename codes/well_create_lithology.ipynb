{
 "cells": [
  {
   "cell_type": "code",
   "execution_count": 1,
   "metadata": {},
   "outputs": [],
   "source": [
    "import numpy as np\n",
    "import matplotlib.pyplot as plt\n",
    "import defs"
   ]
  },
  {
   "cell_type": "code",
   "execution_count": 2,
   "metadata": {},
   "outputs": [],
   "source": [
    "litho_types = defs.read_litho_types('../data/lito_code.csv')"
   ]
  },
  {
   "cell_type": "code",
   "execution_count": 3,
   "metadata": {},
   "outputs": [],
   "source": [
    "well_28D = defs.read_well('../data/7-MP-28D-BA.las')\n",
    "well_31D = defs.read_well('../data/7-MP-31D-BA.las')\n",
    "well_53D = defs.read_well('../data/7-MP-53D-BA.las')\n",
    "well_56D = defs.read_well('../data/7-MP-56D-BA.las')"
   ]
  },
  {
   "cell_type": "code",
   "execution_count": 4,
   "metadata": {},
   "outputs": [],
   "source": [
    "drdn_28D = defs.drdn(well_28D['RHOB'], well_28D['NPHI'])\n",
    "well_28D['DRDN'] = drdn_28D\n",
    "drdn_31D = defs.drdn(well_31D['RHOB'], well_31D['NPHI'])\n",
    "well_31D['DRDN'] = drdn_31D\n",
    "drdn_53D = defs.drdn(well_53D['RHOB'], well_53D['NPHI'])\n",
    "well_53D['DRDN'] = drdn_53D\n",
    "drdn_56D = defs.drdn(well_56D['RHOB'], well_56D['NPHI'])\n",
    "well_56D['DRDN'] = drdn_56D"
   ]
  },
  {
   "cell_type": "code",
   "execution_count": 5,
   "metadata": {},
   "outputs": [],
   "source": [
    "litho_28D = defs.create_lithology(drdn_28D)\n",
    "well_28D['LITHOLOGY'] = litho_28D\n",
    "litho_31D = defs.create_lithology(drdn_31D)\n",
    "well_31D['LITHOLOGY'] = litho_31D\n",
    "litho_53D = defs.create_lithology(drdn_53D)\n",
    "well_53D['LITHOLOGY'] = litho_53D\n",
    "litho_56D = defs.create_lithology(drdn_56D)\n",
    "well_56D['LITHOLOGY'] = litho_56D"
   ]
  },
  {
   "cell_type": "code",
   "execution_count": 6,
   "metadata": {},
   "outputs": [],
   "source": [
    "separate_28D = defs.separate_lithology(well_28D, litho_types)\n",
    "separate_31D = defs.separate_lithology(well_31D, litho_types)\n",
    "separate_53D = defs.separate_lithology(well_53D, litho_types)\n",
    "separate_56D = defs.separate_lithology(well_56D, litho_types)"
   ]
  }
 ],
 "metadata": {
  "kernelspec": {
   "display_name": "Python 3",
   "language": "python",
   "name": "python3"
  },
  "language_info": {
   "codemirror_mode": {
    "name": "ipython",
    "version": 3
   },
   "file_extension": ".py",
   "mimetype": "text/x-python",
   "name": "python",
   "nbconvert_exporter": "python",
   "pygments_lexer": "ipython3",
   "version": "3.7.6"
  }
 },
 "nbformat": 4,
 "nbformat_minor": 2
}
